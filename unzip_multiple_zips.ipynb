{
 "cells": [
  {
   "cell_type": "markdown",
   "metadata": {},
   "source": [
    "A Python script to (1) find zip files in a folder, (2) make an output directory, (3) move .zip to the output folder, and (4) then extract them to the output folder."
   ]
  },
  {
   "cell_type": "code",
   "execution_count": 7,
   "metadata": {},
   "outputs": [],
   "source": [
    "from zipfile import ZipFile\n",
    "import os\n",
    "os.getcwd()\n",
    "import glob\n",
    "import zipfile\n",
    "import shutil"
   ]
  },
  {
   "cell_type": "code",
   "execution_count": 3,
   "metadata": {},
   "outputs": [],
   "source": [
    "os.chdir(r\"C:\\Users\\taohuang\\Downloads\\MTBS_BSmosaics-20220425T211522Z-001\\MTBS_BSmosaics\")\n",
    "output=r\"C:\\Users\\taohuang\\Downloads\\MTBS_BSmosaics-20220425T211522Z-001\\MTBS_BSmosaics\\output\"\n",
    "os.makedirs(output)"
   ]
  },
  {
   "cell_type": "code",
   "execution_count": 33,
   "metadata": {},
   "outputs": [
    {
     "name": "stdout",
     "output_type": "stream",
     "text": [
      "C:\\Users\\taohuang\\Downloads\\MTBS_BSmosaics-20220425T211522Z-001\\MTBS_BSmosaics\n",
      "['mtbs_CONUS_1984.zip']\n",
      "['mtbs_CONUS_1985.zip']\n",
      "['mtbs_CONUS_1986.zip']\n",
      "['mtbs_CONUS_1987.zip']\n",
      "['mtbs_CONUS_1988.zip']\n",
      "['mtbs_CONUS_1989.zip']\n",
      "['mtbs_CONUS_1990.zip']\n",
      "['mtbs_CONUS_1991.zip']\n",
      "['mtbs_CONUS_1992.zip']\n",
      "['mtbs_CONUS_1993.zip']\n",
      "['mtbs_CONUS_1994.zip']\n",
      "['mtbs_CONUS_1995.zip']\n",
      "['mtbs_CONUS_1996.zip']\n",
      "['mtbs_CONUS_1997.zip']\n",
      "['mtbs_CONUS_1998.zip']\n",
      "['mtbs_CONUS_1999.zip']\n",
      "['mtbs_CONUS_2000.zip']\n",
      "['mtbs_CONUS_2001.zip']\n",
      "['mtbs_CONUS_2002.zip']\n",
      "['mtbs_CONUS_2003.zip']\n",
      "['mtbs_CONUS_2004.zip']\n",
      "['mtbs_CONUS_2005.zip']\n",
      "['mtbs_CONUS_2006.zip']\n",
      "['mtbs_CONUS_2007.zip']\n",
      "['mtbs_CONUS_2008.zip']\n",
      "['mtbs_CONUS_2009.zip']\n",
      "['mtbs_CONUS_2010.zip']\n",
      "['mtbs_CONUS_2011.zip']\n",
      "['mtbs_CONUS_2012.zip']\n",
      "['mtbs_CONUS_2013.zip']\n",
      "['mtbs_CONUS_2014.zip']\n",
      "['mtbs_CONUS_2015.zip']\n",
      "['mtbs_CONUS_2016.zip']\n",
      "['mtbs_CONUS_2017.zip']\n",
      "['mtbs_CONUS_2018.zip']\n",
      "['mtbs_CONUS_2019.zip']\n",
      "['mtbs_CONUS_2020.zip']\n"
     ]
    }
   ],
   "source": [
    "print(os.getcwd())\n",
    "for yr in range(1984,2021):\n",
    "    file_source = str(yr) \n",
    "    get_files = os.listdir(file_source)\n",
    "    print(get_files)\n",
    "    for g in get_files:\n",
    "        f=os.path.join( r\"C:\\Users\\taohuang\\Downloads\\MTBS_BSmosaics-20220425T211522Z-001\\MTBS_BSmosaics\", file_source,g)\n",
    "        shutil.move(f, output)"
   ]
  },
  {
   "cell_type": "code",
   "execution_count": 34,
   "metadata": {},
   "outputs": [],
   "source": [
    "os.chdir(r\"C:\\Users\\taohuang\\Downloads\\MTBS_BSmosaics-20220425T211522Z-001\\MTBS_BSmosaics\\output\")\n",
    "for file in glob.glob(\"*.zip\"):\n",
    "    with zipfile.ZipFile(file) as item: # treat the file as a zip, not str\n",
    "           item.extractall(output)  "
   ]
  }
 ],
 "metadata": {
  "kernelspec": {
   "display_name": "Python 3 (ipykernel)",
   "language": "python",
   "name": "python3"
  },
  "language_info": {
   "codemirror_mode": {
    "name": "ipython",
    "version": 3
   },
   "file_extension": ".py",
   "mimetype": "text/x-python",
   "name": "python",
   "nbconvert_exporter": "python",
   "pygments_lexer": "ipython3",
   "version": "3.8.12"
  }
 },
 "nbformat": 4,
 "nbformat_minor": 2
}
